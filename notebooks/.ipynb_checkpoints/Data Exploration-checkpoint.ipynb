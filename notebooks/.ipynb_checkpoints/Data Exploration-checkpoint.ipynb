{
 "cells": [
  {
   "cell_type": "code",
   "execution_count": 1,
   "metadata": {},
   "outputs": [],
   "source": [
    "import numpy as np\n",
    "import pandas as pd\n",
    "import matplotlib.pyplot as plt\n",
    "import seaborn as sns\n",
    "import missingno as msno"
   ]
  },
  {
   "cell_type": "code",
   "execution_count": 2,
   "metadata": {},
   "outputs": [],
   "source": [
    "from sklearn.cluster import KMeans"
   ]
  },
  {
   "cell_type": "code",
   "execution_count": 3,
   "metadata": {},
   "outputs": [],
   "source": [
    "df = pd.read_excel('../data/raw/Features Dataset.xlsx')"
   ]
  },
  {
   "cell_type": "code",
   "execution_count": 4,
   "metadata": {},
   "outputs": [
    {
     "data": {
      "text/plain": [
       "(30529, 24)"
      ]
     },
     "execution_count": 4,
     "metadata": {},
     "output_type": "execute_result"
    }
   ],
   "source": [
    "df.shape"
   ]
  },
  {
   "cell_type": "code",
   "execution_count": 5,
   "metadata": {},
   "outputs": [
    {
     "data": {
      "text/html": [
       "<div>\n",
       "<style scoped>\n",
       "    .dataframe tbody tr th:only-of-type {\n",
       "        vertical-align: middle;\n",
       "    }\n",
       "\n",
       "    .dataframe tbody tr th {\n",
       "        vertical-align: top;\n",
       "    }\n",
       "\n",
       "    .dataframe thead th {\n",
       "        text-align: right;\n",
       "    }\n",
       "</style>\n",
       "<table border=\"1\" class=\"dataframe\">\n",
       "  <thead>\n",
       "    <tr style=\"text-align: right;\">\n",
       "      <th></th>\n",
       "      <th>Solidity</th>\n",
       "      <th>Eccentricity</th>\n",
       "      <th>EquivDiameter</th>\n",
       "      <th>Extrema</th>\n",
       "      <th>FilledArea</th>\n",
       "      <th>Extent</th>\n",
       "      <th>Orientation</th>\n",
       "      <th>EulerNumber</th>\n",
       "      <th>BoundingBox1</th>\n",
       "      <th>BoundingBox2</th>\n",
       "      <th>...</th>\n",
       "      <th>ConvexHull3</th>\n",
       "      <th>ConvexHull4</th>\n",
       "      <th>MajorAxisLength</th>\n",
       "      <th>MinorAxisLength</th>\n",
       "      <th>Perimeter</th>\n",
       "      <th>ConvexArea</th>\n",
       "      <th>Centroid1</th>\n",
       "      <th>Centroid2</th>\n",
       "      <th>Area</th>\n",
       "      <th>microorganism</th>\n",
       "    </tr>\n",
       "  </thead>\n",
       "  <tbody>\n",
       "    <tr>\n",
       "      <th>0</th>\n",
       "      <td>0.486485</td>\n",
       "      <td>0.352808</td>\n",
       "      <td>0.209923</td>\n",
       "      <td>0.154472</td>\n",
       "      <td>0.049567</td>\n",
       "      <td>0.427420</td>\n",
       "      <td>0.397009</td>\n",
       "      <td>0.968446</td>\n",
       "      <td>0.111746</td>\n",
       "      <td>0.735501</td>\n",
       "      <td>...</td>\n",
       "      <td>0.122540</td>\n",
       "      <td>0.113016</td>\n",
       "      <td>0.057069</td>\n",
       "      <td>0.073750</td>\n",
       "      <td>0.026078</td>\n",
       "      <td>0.007838</td>\n",
       "      <td>0.144591</td>\n",
       "      <td>0.764190</td>\n",
       "      <td>0.058232</td>\n",
       "      <td>1</td>\n",
       "    </tr>\n",
       "    <tr>\n",
       "      <th>1</th>\n",
       "      <td>0.526241</td>\n",
       "      <td>0.617741</td>\n",
       "      <td>0.226264</td>\n",
       "      <td>0.163227</td>\n",
       "      <td>0.046720</td>\n",
       "      <td>0.527130</td>\n",
       "      <td>0.092359</td>\n",
       "      <td>0.968781</td>\n",
       "      <td>0.130159</td>\n",
       "      <td>0.494728</td>\n",
       "      <td>...</td>\n",
       "      <td>0.130159</td>\n",
       "      <td>0.130159</td>\n",
       "      <td>0.063762</td>\n",
       "      <td>0.066182</td>\n",
       "      <td>0.0308577</td>\n",
       "      <td>0.008220</td>\n",
       "      <td>0.151411</td>\n",
       "      <td>0.523930</td>\n",
       "      <td>0.066146</td>\n",
       "      <td>1</td>\n",
       "    </tr>\n",
       "    <tr>\n",
       "      <th>2</th>\n",
       "      <td>0.275985</td>\n",
       "      <td>0.749712</td>\n",
       "      <td>0.162079</td>\n",
       "      <td>0.267667</td>\n",
       "      <td>0.021195</td>\n",
       "      <td>0.225698</td>\n",
       "      <td>0.808977</td>\n",
       "      <td>0.977174</td>\n",
       "      <td>0.236825</td>\n",
       "      <td>0.869947</td>\n",
       "      <td>...</td>\n",
       "      <td>0.240000</td>\n",
       "      <td>0.239365</td>\n",
       "      <td>0.073771</td>\n",
       "      <td>0.062334</td>\n",
       "      <td>0.047485</td>\n",
       "      <td>0.009091</td>\n",
       "      <td>0.256178</td>\n",
       "      <td>0.903579</td>\n",
       "      <td>0.037868</td>\n",
       "      <td>1</td>\n",
       "    </tr>\n",
       "    <tr>\n",
       "      <th>3</th>\n",
       "      <td>0.410623</td>\n",
       "      <td>0.828166</td>\n",
       "      <td>0.186422</td>\n",
       "      <td>0.289556</td>\n",
       "      <td>0.024251</td>\n",
       "      <td>0.377933</td>\n",
       "      <td>0.913243</td>\n",
       "      <td>0.975159</td>\n",
       "      <td>0.260952</td>\n",
       "      <td>0.464851</td>\n",
       "      <td>...</td>\n",
       "      <td>0.262222</td>\n",
       "      <td>0.260952</td>\n",
       "      <td>0.080485</td>\n",
       "      <td>0.056312</td>\n",
       "      <td>0.0522724</td>\n",
       "      <td>0.007637</td>\n",
       "      <td>0.279966</td>\n",
       "      <td>0.496005</td>\n",
       "      <td>0.047706</td>\n",
       "      <td>1</td>\n",
       "    </tr>\n",
       "    <tr>\n",
       "      <th>4</th>\n",
       "      <td>0.496481</td>\n",
       "      <td>0.728570</td>\n",
       "      <td>0.318669</td>\n",
       "      <td>0.481551</td>\n",
       "      <td>0.088410</td>\n",
       "      <td>0.407450</td>\n",
       "      <td>0.431428</td>\n",
       "      <td>0.952669</td>\n",
       "      <td>0.385397</td>\n",
       "      <td>0.487698</td>\n",
       "      <td>...</td>\n",
       "      <td>0.389206</td>\n",
       "      <td>0.388571</td>\n",
       "      <td>0.103155</td>\n",
       "      <td>0.088595</td>\n",
       "      <td>0.0324742</td>\n",
       "      <td>0.015847</td>\n",
       "      <td>0.444159</td>\n",
       "      <td>0.519704</td>\n",
       "      <td>0.120092</td>\n",
       "      <td>1</td>\n",
       "    </tr>\n",
       "  </tbody>\n",
       "</table>\n",
       "<p>5 rows × 24 columns</p>\n",
       "</div>"
      ],
      "text/plain": [
       "   Solidity  Eccentricity  EquivDiameter   Extrema  FilledArea    Extent  \\\n",
       "0  0.486485      0.352808       0.209923  0.154472    0.049567  0.427420   \n",
       "1  0.526241      0.617741       0.226264  0.163227    0.046720  0.527130   \n",
       "2  0.275985      0.749712       0.162079  0.267667    0.021195  0.225698   \n",
       "3  0.410623      0.828166       0.186422  0.289556    0.024251  0.377933   \n",
       "4  0.496481      0.728570       0.318669  0.481551    0.088410  0.407450   \n",
       "\n",
       "   Orientation  EulerNumber  BoundingBox1  BoundingBox2  ...  ConvexHull3  \\\n",
       "0     0.397009     0.968446      0.111746      0.735501  ...     0.122540   \n",
       "1     0.092359     0.968781      0.130159      0.494728  ...     0.130159   \n",
       "2     0.808977     0.977174      0.236825      0.869947  ...     0.240000   \n",
       "3     0.913243     0.975159      0.260952      0.464851  ...     0.262222   \n",
       "4     0.431428     0.952669      0.385397      0.487698  ...     0.389206   \n",
       "\n",
       "   ConvexHull4  MajorAxisLength  MinorAxisLength  Perimeter  ConvexArea  \\\n",
       "0     0.113016         0.057069         0.073750   0.026078    0.007838   \n",
       "1     0.130159         0.063762         0.066182  0.0308577    0.008220   \n",
       "2     0.239365         0.073771         0.062334   0.047485    0.009091   \n",
       "3     0.260952         0.080485         0.056312  0.0522724    0.007637   \n",
       "4     0.388571         0.103155         0.088595  0.0324742    0.015847   \n",
       "\n",
       "   Centroid1  Centroid2      Area  microorganism  \n",
       "0   0.144591   0.764190  0.058232              1  \n",
       "1   0.151411   0.523930  0.066146              1  \n",
       "2   0.256178   0.903579  0.037868              1  \n",
       "3   0.279966   0.496005  0.047706              1  \n",
       "4   0.444159   0.519704  0.120092              1  \n",
       "\n",
       "[5 rows x 24 columns]"
      ]
     },
     "execution_count": 5,
     "metadata": {},
     "output_type": "execute_result"
    }
   ],
   "source": [
    "df.head()"
   ]
  },
  {
   "cell_type": "code",
   "execution_count": 6,
   "metadata": {},
   "outputs": [
    {
     "data": {
      "text/html": [
       "<div>\n",
       "<style scoped>\n",
       "    .dataframe tbody tr th:only-of-type {\n",
       "        vertical-align: middle;\n",
       "    }\n",
       "\n",
       "    .dataframe tbody tr th {\n",
       "        vertical-align: top;\n",
       "    }\n",
       "\n",
       "    .dataframe thead th {\n",
       "        text-align: right;\n",
       "    }\n",
       "</style>\n",
       "<table border=\"1\" class=\"dataframe\">\n",
       "  <thead>\n",
       "    <tr style=\"text-align: right;\">\n",
       "      <th></th>\n",
       "      <th>Solidity</th>\n",
       "      <th>Eccentricity</th>\n",
       "      <th>EquivDiameter</th>\n",
       "      <th>Extrema</th>\n",
       "      <th>FilledArea</th>\n",
       "      <th>Extent</th>\n",
       "      <th>Orientation</th>\n",
       "      <th>EulerNumber</th>\n",
       "      <th>BoundingBox1</th>\n",
       "      <th>BoundingBox2</th>\n",
       "      <th>...</th>\n",
       "      <th>ConvexHull3</th>\n",
       "      <th>ConvexHull4</th>\n",
       "      <th>MajorAxisLength</th>\n",
       "      <th>MinorAxisLength</th>\n",
       "      <th>Perimeter</th>\n",
       "      <th>ConvexArea</th>\n",
       "      <th>Centroid1</th>\n",
       "      <th>Centroid2</th>\n",
       "      <th>Area</th>\n",
       "      <th>microorganism</th>\n",
       "    </tr>\n",
       "  </thead>\n",
       "  <tbody>\n",
       "    <tr>\n",
       "      <th>30524</th>\n",
       "      <td>NaN</td>\n",
       "      <td>NaN</td>\n",
       "      <td>NaN</td>\n",
       "      <td>NaN</td>\n",
       "      <td>NaN</td>\n",
       "      <td>NaN</td>\n",
       "      <td>NaN</td>\n",
       "      <td>NaN</td>\n",
       "      <td>NaN</td>\n",
       "      <td>NaN</td>\n",
       "      <td>...</td>\n",
       "      <td>NaN</td>\n",
       "      <td>NaN</td>\n",
       "      <td>NaN</td>\n",
       "      <td>NaN</td>\n",
       "      <td>NaN</td>\n",
       "      <td>NaN</td>\n",
       "      <td>NaN</td>\n",
       "      <td>NaN</td>\n",
       "      <td>NaN</td>\n",
       "      <td>10</td>\n",
       "    </tr>\n",
       "    <tr>\n",
       "      <th>30525</th>\n",
       "      <td>NaN</td>\n",
       "      <td>NaN</td>\n",
       "      <td>NaN</td>\n",
       "      <td>NaN</td>\n",
       "      <td>NaN</td>\n",
       "      <td>NaN</td>\n",
       "      <td>NaN</td>\n",
       "      <td>NaN</td>\n",
       "      <td>NaN</td>\n",
       "      <td>NaN</td>\n",
       "      <td>...</td>\n",
       "      <td>NaN</td>\n",
       "      <td>NaN</td>\n",
       "      <td>NaN</td>\n",
       "      <td>NaN</td>\n",
       "      <td>NaN</td>\n",
       "      <td>NaN</td>\n",
       "      <td>NaN</td>\n",
       "      <td>NaN</td>\n",
       "      <td>NaN</td>\n",
       "      <td>10</td>\n",
       "    </tr>\n",
       "    <tr>\n",
       "      <th>30526</th>\n",
       "      <td>NaN</td>\n",
       "      <td>NaN</td>\n",
       "      <td>NaN</td>\n",
       "      <td>NaN</td>\n",
       "      <td>NaN</td>\n",
       "      <td>NaN</td>\n",
       "      <td>NaN</td>\n",
       "      <td>NaN</td>\n",
       "      <td>NaN</td>\n",
       "      <td>NaN</td>\n",
       "      <td>...</td>\n",
       "      <td>NaN</td>\n",
       "      <td>NaN</td>\n",
       "      <td>NaN</td>\n",
       "      <td>NaN</td>\n",
       "      <td>NaN</td>\n",
       "      <td>NaN</td>\n",
       "      <td>NaN</td>\n",
       "      <td>NaN</td>\n",
       "      <td>NaN</td>\n",
       "      <td>10</td>\n",
       "    </tr>\n",
       "    <tr>\n",
       "      <th>30527</th>\n",
       "      <td>NaN</td>\n",
       "      <td>NaN</td>\n",
       "      <td>NaN</td>\n",
       "      <td>NaN</td>\n",
       "      <td>NaN</td>\n",
       "      <td>NaN</td>\n",
       "      <td>NaN</td>\n",
       "      <td>NaN</td>\n",
       "      <td>NaN</td>\n",
       "      <td>NaN</td>\n",
       "      <td>...</td>\n",
       "      <td>NaN</td>\n",
       "      <td>NaN</td>\n",
       "      <td>NaN</td>\n",
       "      <td>NaN</td>\n",
       "      <td>NaN</td>\n",
       "      <td>NaN</td>\n",
       "      <td>NaN</td>\n",
       "      <td>NaN</td>\n",
       "      <td>NaN</td>\n",
       "      <td>10</td>\n",
       "    </tr>\n",
       "    <tr>\n",
       "      <th>30528</th>\n",
       "      <td>NaN</td>\n",
       "      <td>NaN</td>\n",
       "      <td>NaN</td>\n",
       "      <td>NaN</td>\n",
       "      <td>NaN</td>\n",
       "      <td>NaN</td>\n",
       "      <td>NaN</td>\n",
       "      <td>NaN</td>\n",
       "      <td>NaN</td>\n",
       "      <td>NaN</td>\n",
       "      <td>...</td>\n",
       "      <td>NaN</td>\n",
       "      <td>NaN</td>\n",
       "      <td>NaN</td>\n",
       "      <td>NaN</td>\n",
       "      <td>NaN</td>\n",
       "      <td>NaN</td>\n",
       "      <td>NaN</td>\n",
       "      <td>NaN</td>\n",
       "      <td>NaN</td>\n",
       "      <td>10</td>\n",
       "    </tr>\n",
       "  </tbody>\n",
       "</table>\n",
       "<p>5 rows × 24 columns</p>\n",
       "</div>"
      ],
      "text/plain": [
       "       Solidity  Eccentricity  EquivDiameter  Extrema  FilledArea  Extent  \\\n",
       "30524       NaN           NaN            NaN      NaN         NaN     NaN   \n",
       "30525       NaN           NaN            NaN      NaN         NaN     NaN   \n",
       "30526       NaN           NaN            NaN      NaN         NaN     NaN   \n",
       "30527       NaN           NaN            NaN      NaN         NaN     NaN   \n",
       "30528       NaN           NaN            NaN      NaN         NaN     NaN   \n",
       "\n",
       "       Orientation  EulerNumber  BoundingBox1  BoundingBox2  ...  ConvexHull3  \\\n",
       "30524          NaN          NaN           NaN           NaN  ...          NaN   \n",
       "30525          NaN          NaN           NaN           NaN  ...          NaN   \n",
       "30526          NaN          NaN           NaN           NaN  ...          NaN   \n",
       "30527          NaN          NaN           NaN           NaN  ...          NaN   \n",
       "30528          NaN          NaN           NaN           NaN  ...          NaN   \n",
       "\n",
       "       ConvexHull4  MajorAxisLength  MinorAxisLength  Perimeter  ConvexArea  \\\n",
       "30524          NaN              NaN              NaN        NaN         NaN   \n",
       "30525          NaN              NaN              NaN        NaN         NaN   \n",
       "30526          NaN              NaN              NaN        NaN         NaN   \n",
       "30527          NaN              NaN              NaN        NaN         NaN   \n",
       "30528          NaN              NaN              NaN        NaN         NaN   \n",
       "\n",
       "       Centroid1  Centroid2 Area  microorganism  \n",
       "30524        NaN        NaN  NaN             10  \n",
       "30525        NaN        NaN  NaN             10  \n",
       "30526        NaN        NaN  NaN             10  \n",
       "30527        NaN        NaN  NaN             10  \n",
       "30528        NaN        NaN  NaN             10  \n",
       "\n",
       "[5 rows x 24 columns]"
      ]
     },
     "execution_count": 6,
     "metadata": {},
     "output_type": "execute_result"
    }
   ],
   "source": [
    "df.tail()"
   ]
  },
  {
   "cell_type": "code",
   "execution_count": 7,
   "metadata": {},
   "outputs": [
    {
     "name": "stdout",
     "output_type": "stream",
     "text": [
      "<class 'pandas.core.frame.DataFrame'>\n",
      "RangeIndex: 30529 entries, 0 to 30528\n",
      "Data columns (total 24 columns):\n",
      " #   Column           Non-Null Count  Dtype  \n",
      "---  ------           --------------  -----  \n",
      " 0   Solidity         6366 non-null   float64\n",
      " 1   Eccentricity     6366 non-null   float64\n",
      " 2   EquivDiameter    6366 non-null   float64\n",
      " 3   Extrema          6366 non-null   float64\n",
      " 4   FilledArea       6366 non-null   float64\n",
      " 5   Extent           6366 non-null   float64\n",
      " 6   Orientation      6366 non-null   float64\n",
      " 7   EulerNumber      6366 non-null   float64\n",
      " 8   BoundingBox1     6366 non-null   float64\n",
      " 9   BoundingBox2     6366 non-null   float64\n",
      " 10  BoundingBox3     6366 non-null   float64\n",
      " 11  BoundingBox4     6366 non-null   float64\n",
      " 12  ConvexHull1      6366 non-null   float64\n",
      " 13  ConvexHull2      6366 non-null   float64\n",
      " 14  ConvexHull3      6366 non-null   float64\n",
      " 15  ConvexHull4      6366 non-null   float64\n",
      " 16  MajorAxisLength  6366 non-null   float64\n",
      " 17  MinorAxisLength  6366 non-null   float64\n",
      " 18  Perimeter        6366 non-null   object \n",
      " 19  ConvexArea       6365 non-null   float64\n",
      " 20  Centroid1        6365 non-null   float64\n",
      " 21  Centroid2        6365 non-null   float64\n",
      " 22  Area             6365 non-null   float64\n",
      " 23  microorganism    30529 non-null  int64  \n",
      "dtypes: float64(22), int64(1), object(1)\n",
      "memory usage: 5.6+ MB\n"
     ]
    }
   ],
   "source": [
    "df.info()"
   ]
  },
  {
   "cell_type": "code",
   "execution_count": 8,
   "metadata": {},
   "outputs": [
    {
     "data": {
      "text/plain": [
       "<AxesSubplot:>"
      ]
     },
     "execution_count": 8,
     "metadata": {},
     "output_type": "execute_result"
    },
    {
     "data": {
      "image/png": "[encoded data removed]",
      "text/plain": [
       "<Figure size 1800x720 with 2 Axes>"
      ]
     },
     "metadata": {
      "needs_background": "light"
     },
     "output_type": "display_data"
    }
   ],
   "source": [
    "msno.matrix(df)"
   ]
  },
  {
   "cell_type": "code",
   "execution_count": 9,
   "metadata": {},
   "outputs": [],
   "source": [
    "df = df[df['Area'].notna()]"
   ]
  },
  {
   "cell_type": "code",
   "execution_count": 10,
   "metadata": {},
   "outputs": [
    {
     "data": {
      "text/plain": [
       "(6365, 24)"
      ]
     },
     "execution_count": 10,
     "metadata": {},
     "output_type": "execute_result"
    }
   ],
   "source": [
    "df.shape"
   ]
  },
  {
   "cell_type": "code",
   "execution_count": 11,
   "metadata": {},
   "outputs": [
    {
     "name": "stdout",
     "output_type": "stream",
     "text": [
      "<class 'pandas.core.frame.DataFrame'>\n",
      "Int64Index: 6365 entries, 0 to 6364\n",
      "Data columns (total 24 columns):\n",
      " #   Column           Non-Null Count  Dtype  \n",
      "---  ------           --------------  -----  \n",
      " 0   Solidity         6365 non-null   float64\n",
      " 1   Eccentricity     6365 non-null   float64\n",
      " 2   EquivDiameter    6365 non-null   float64\n",
      " 3   Extrema          6365 non-null   float64\n",
      " 4   FilledArea       6365 non-null   float64\n",
      " 5   Extent           6365 non-null   float64\n",
      " 6   Orientation      6365 non-null   float64\n",
      " 7   EulerNumber      6365 non-null   float64\n",
      " 8   BoundingBox1     6365 non-null   float64\n",
      " 9   BoundingBox2     6365 non-null   float64\n",
      " 10  BoundingBox3     6365 non-null   float64\n",
      " 11  BoundingBox4     6365 non-null   float64\n",
      " 12  ConvexHull1      6365 non-null   float64\n",
      " 13  ConvexHull2      6365 non-null   float64\n",
      " 14  ConvexHull3      6365 non-null   float64\n",
      " 15  ConvexHull4      6365 non-null   float64\n",
      " 16  MajorAxisLength  6365 non-null   float64\n",
      " 17  MinorAxisLength  6365 non-null   float64\n",
      " 18  Perimeter        6365 non-null   object \n",
      " 19  ConvexArea       6365 non-null   float64\n",
      " 20  Centroid1        6365 non-null   float64\n",
      " 21  Centroid2        6365 non-null   float64\n",
      " 22  Area             6365 non-null   float64\n",
      " 23  microorganism    6365 non-null   int64  \n",
      "dtypes: float64(22), int64(1), object(1)\n",
      "memory usage: 1.2+ MB\n"
     ]
    }
   ],
   "source": [
    "df.info()"
   ]
  },
  {
   "cell_type": "code",
   "execution_count": 12,
   "metadata": {},
   "outputs": [
    {
     "data": {
      "text/plain": [
       "0     0.026078\n",
       "1    0.0308577\n",
       "2     0.047485\n",
       "3    0.0522724\n",
       "4    0.0324742\n",
       "Name: Perimeter, dtype: object"
      ]
     },
     "execution_count": 12,
     "metadata": {},
     "output_type": "execute_result"
    }
   ],
   "source": [
    "df['Perimeter'].head()"
   ]
  },
  {
   "cell_type": "code",
   "execution_count": 13,
   "metadata": {},
   "outputs": [],
   "source": [
    "df['Perimeter'] = df['Perimeter'].astype('float')"
   ]
  },
  {
   "cell_type": "code",
   "execution_count": 14,
   "metadata": {},
   "outputs": [
    {
     "name": "stdout",
     "output_type": "stream",
     "text": [
      "  Solidity :: maximum value is 1.0, minimum value is 0.0\n",
      "  Eccentricity :: maximum value is 1.0, minimum value is 0.0\n",
      "  EquivDiameter :: maximum value is 1.0, minimum value is 0.0\n",
      "  Extrema :: maximum value is 1.0, minimum value is 0.0\n",
      "  FilledArea :: maximum value is 0.999999999999999, minimum value is 0.0\n",
      "  Extent :: maximum value is 1.0, minimum value is 0.0\n",
      "  Orientation :: maximum value is 0.999999999999999, minimum value is 0.0\n",
      "  EulerNumber :: maximum value is 1.0, minimum value is 0.0\n",
      "  BoundingBox1 :: maximum value is 1.0, minimum value is 0.0\n",
      "  BoundingBox2 :: maximum value is 1.0, minimum value is 0.0\n",
      "  BoundingBox3 :: maximum value is 1.0, minimum value is 0.0\n",
      "  BoundingBox4 :: maximum value is 1.0, minimum value is 0.0\n",
      "  ConvexHull1 :: maximum value is 1.0, minimum value is 0.0\n",
      "  ConvexHull2 :: maximum value is 0.999999999999999, minimum value is 0.0\n",
      "  ConvexHull3 :: maximum value is 1.0, minimum value is 0.0\n",
      "  ConvexHull4 :: maximum value is 1.0, minimum value is 0.0\n",
      "  MajorAxisLength :: maximum value is 1.0, minimum value is 0.0\n",
      "  MinorAxisLength :: maximum value is 0.999999999999999, minimum value is 7.31958119924444e-05\n",
      "  Perimeter :: maximum value is 1.0, minimum value is 0.0\n",
      "  ConvexArea :: maximum value is 1.0, minimum value is 0.0\n",
      "  Centroid1 :: maximum value is 1.0, minimum value is 0.0\n",
      "  Centroid2 :: maximum value is 1.0, minimum value is 0.0\n",
      "  Area :: maximum value is 0.999999999999999, minimum value is 0.0\n",
      "  microorganism :: maximum value is 4, minimum value is 1\n"
     ]
    }
   ],
   "source": [
    "for i in df:\n",
    "    print(f\"  {i} :: maximum value is {df[i].max()}, minimum value is {df[i].min()}\")"
   ]
  },
  {
   "cell_type": "code",
   "execution_count": 15,
   "metadata": {},
   "outputs": [
    {
     "data": {
      "image/png": "[encoded data removed]",
      "text/plain": [
       "<Figure size 432x288 with 1 Axes>"
      ]
     },
     "metadata": {
      "needs_background": "light"
     },
     "output_type": "display_data"
    },
    {
     "data": {
      "image/png": "[encoded data removed]",
      "text/plain": [
       "<Figure size 432x288 with 1 Axes>"
      ]
     },
     "metadata": {
      "needs_background": "light"
     },
     "output_type": "display_data"
    },
    {
     "data": {
      "image/png": "[encoded data removed]",
      "text/plain": [
       "<Figure size 432x288 with 1 Axes>"
      ]
     },
     "metadata": {
      "needs_background": "light"
     },
     "output_type": "display_data"
    },
    {
     "data": {
      "image/png": "[encoded data removed]",
      "text/plain": [
       "<Figure size 432x288 with 1 Axes>"
      ]
     },
     "metadata": {
      "needs_background": "light"
     },
     "output_type": "display_data"
    },
    {
     "data": {
      "image/png": "[encoded data removed]",
      "text/plain": [
       "<Figure size 432x288 with 1 Axes>"
      ]
     },
     "metadata": {
      "needs_background": "light"
     },
     "output_type": "display_data"
    },
    {
     "data": {
      "image/png": "[encoded data removed]",
      "text/plain": [
       "<Figure size 432x288 with 1 Axes>"
      ]
     },
     "metadata": {
      "needs_background": "light"
     },
     "output_type": "display_data"
    },
    {
     "data": {
      "image/png": "[encoded data removed]",
      "text/plain": [
       "<Figure size 432x288 with 1 Axes>"
      ]
     },
     "metadata": {
      "needs_background": "light"
     },
     "output_type": "display_data"
    },
    {
     "data": {
      "image/png": "[encoded data removed]",
      "text/plain": [
       "<Figure size 432x288 with 1 Axes>"
      ]
     },
     "metadata": {
      "needs_background": "light"
     },
     "output_type": "display_data"
    },
    {
     "data": {
      "image/png": "[encoded data removed]",
      "text/plain": [
       "<Figure size 432x288 with 1 Axes>"
      ]
     },
     "metadata": {
      "needs_background": "light"
     },
     "output_type": "display_data"
    },
    {
     "data": {
      "image/png": "[encoded data removed]",
      "text/plain": [
       "<Figure size 432x288 with 1 Axes>"
      ]
     },
     "metadata": {
      "needs_background": "light"
     },
     "output_type": "display_data"
    },
    {
     "data": {
      "image/png": "[encoded data removed]",
      "text/plain": [
       "<Figure size 432x288 with 1 Axes>"
      ]
     },
     "metadata": {
      "needs_background": "light"
     },
     "output_type": "display_data"
    },
    {
     "data": {
      "image/png": "[encoded data removed]",
      "text/plain": [
       "<Figure size 432x288 with 1 Axes>"
      ]
     },
     "metadata": {
      "needs_background": "light"
     },
     "output_type": "display_data"
    },
    {
     "data": {
      "image/png": "[encoded data removed]",
      "text/plain": [
       "<Figure size 432x288 with 1 Axes>"
      ]
     },
     "metadata": {
      "needs_background": "light"
     },
     "output_type": "display_data"
    },
    {
     "data": {
      "image/png": "[encoded data removed]",
      "text/plain": [
       "<Figure size 432x288 with 1 Axes>"
      ]
     },
     "metadata": {
      "needs_background": "light"
     },
     "output_type": "display_data"
    },
    {
     "data": {
      "image/png": "[encoded data removed]",
      "text/plain": [
       "<Figure size 432x288 with 1 Axes>"
      ]
     },
     "metadata": {
      "needs_background": "light"
     },
     "output_type": "display_data"
    },
    {
     "data": {
      "image/png": "[encoded data removed]",
      "text/plain": [
       "<Figure size 432x288 with 1 Axes>"
      ]
     },
     "metadata": {
      "needs_background": "light"
     },
     "output_type": "display_data"
    },
    {
     "data": {
      "image/png": "[encoded data removed]",
      "text/plain": [
       "<Figure size 432x288 with 1 Axes>"
      ]
     },
     "metadata": {
      "needs_background": "light"
     },
     "output_type": "display_data"
    },
    {
     "data": {
      "image/png": "[encoded data removed]",
      "text/plain": [
       "<Figure size 432x288 with 1 Axes>"
      ]
     },
     "metadata": {
      "needs_background": "light"
     },
     "output_type": "display_data"
    },
    {
     "data": {
      "image/png": "[encoded data removed]",
      "text/plain": [
       "<Figure size 432x288 with 1 Axes>"
      ]
     },
     "metadata": {
      "needs_background": "light"
     },
     "output_type": "display_data"
    },
    {
     "data": {
      "image/png": "[encoded data removed]",
      "text/plain": [
       "<Figure size 432x288 with 1 Axes>"
      ]
     },
     "metadata": {
      "needs_background": "light"
     },
     "output_type": "display_data"
    },
    {
     "data": {
      "image/png": "[encoded data removed]",
      "text/plain": [
       "<Figure size 432x288 with 1 Axes>"
      ]
     },
     "metadata": {
      "needs_background": "light"
     },
     "output_type": "display_data"
    },
    {
     "data": {
      "image/png": "[encoded data removed]",
      "text/plain": [
       "<Figure size 432x288 with 1 Axes>"
      ]
     },
     "metadata": {
      "needs_background": "light"
     },
     "output_type": "display_data"
    },
    {
     "data": {
      "image/png": "[encoded data removed]",
      "text/plain": [
       "<Figure size 432x288 with 1 Axes>"
      ]
     },
     "metadata": {
      "needs_background": "light"
     },
     "output_type": "display_data"
    },
    {
     "data": {
      "image/png": "[encoded data removed]",
      "text/plain": [
       "<Figure size 432x288 with 1 Axes>"
      ]
     },
     "metadata": {
      "needs_background": "light"
     },
     "output_type": "display_data"
    }
   ],
   "source": [
    "for i in df:\n",
    "    plt.hist(df[i])\n",
    "    plt.title(i)\n",
    "    plt.show()"
   ]
  },
  {
   "cell_type": "code",
   "execution_count": 16,
   "metadata": {},
   "outputs": [],
   "source": [
    "## Applying KMeans\n",
    "\n",
    "X = df.iloc[:,:-1]\n",
    "y = df.iloc[:,-1]\n",
    "\n",
    "wcss = []   # within group sum of square (wss)\n",
    "for i in range(1, 100):\n",
    "    kmeans = KMeans(n_clusters=i, init='k-means++', max_iter=500, n_init=10, random_state=0)\n",
    "    kmeans.fit(X)\n",
    "    wcss.append(kmeans.inertia_)"
   ]
  },
  {
   "cell_type": "code",
   "execution_count": 17,
   "metadata": {},
   "outputs": [],
   "source": [
    "ls = list(range(1,100))\n",
    "clust_df = pd.DataFrame()\n",
    "clust_df['n_cluster'] = ls\n",
    "clust_df['wcss'] = wcss\n",
    "clust_df['dist'] = 0"
   ]
  },
  {
   "cell_type": "code",
   "execution_count": 26,
   "metadata": {},
   "outputs": [],
   "source": [
    "x1, x2 = 1, 99\n",
    "y1, y2 = wcss[0], wcss[98]"
   ]
  },
  {
   "cell_type": "code",
   "execution_count": 24,
   "metadata": {},
   "outputs": [
    {
     "data": {
      "image/png": "[encoded data removed]",
      "text/plain": [
       "<Figure size 432x288 with 1 Axes>"
      ]
     },
     "metadata": {
      "needs_background": "light"
     },
     "output_type": "display_data"
    }
   ],
   "source": [
    "plt.plot(range(1,100), wcss)\n",
    "plt.title('Elbow method - to find perfect number of clusters')\n",
    "plt.plot([1, 99],[wcss[0],wcss[98]], 'ro-' )\n",
    "plt.xlabel('n_cluster')\n",
    "plt.ylabel('WCSS')\n",
    "plt.show()"
   ]
  },
  {
   "cell_type": "code",
   "execution_count": 45,
   "metadata": {},
   "outputs": [],
   "source": [
    "# find the equation of the line\n",
    "\n",
    "def find_equn(x1,x2,y1,y2):\n",
    "    m = (y1 - y2)/(x1-x2)\n",
    "    b = y1 - m*x1\n",
    "    return m,b"
   ]
  },
  {
   "cell_type": "code",
   "execution_count": 47,
   "metadata": {},
   "outputs": [],
   "source": [
    "def get_val(x):\n",
    "    m,b = find_equn(x1,x2,y1,y2)\n",
    "    y = m*x+b\n",
    "    return y"
   ]
  },
  {
   "cell_type": "code",
   "execution_count": 55,
   "metadata": {},
   "outputs": [],
   "source": [
    "line_x = list(range(1,100))\n",
    "line_y = [get_val(x) for x in line_x]\n",
    "line = [i for i in zip(line_x, line_y)]\n",
    "curve = [i for i in zip(line_x, wcss)]"
   ]
  },
  {
   "cell_type": "code",
   "execution_count": 57,
   "metadata": {},
   "outputs": [],
   "source": [
    "diff = []\n",
    "for i in range(len(line)):\n",
    "    d = ((line[i][0] - curve[i][0])**2 + (line[i][1] - curve[i][1])**2)**0.5\n",
    "    diff.append(d)"
   ]
  },
  {
   "cell_type": "code",
   "execution_count": 59,
   "metadata": {},
   "outputs": [
    {
     "name": "stdout",
     "output_type": "stream",
     "text": [
      "13\n",
      "3171.278415593605\n"
     ]
    }
   ],
   "source": [
    "max_diff_idx = diff.index(max(diff))\n",
    "print(max_diff_idx)\n",
    "print(diff[max_diff_idx])"
   ]
  },
  {
   "cell_type": "code",
   "execution_count": 60,
   "metadata": {},
   "outputs": [
    {
     "data": {
      "text/plain": [
       "14"
      ]
     },
     "execution_count": 60,
     "metadata": {},
     "output_type": "execute_result"
    }
   ],
   "source": [
    "line_x[13]"
   ]
  },
  {
   "cell_type": "code",
   "execution_count": 61,
   "metadata": {},
   "outputs": [],
   "source": [
    "# so there is 2 possibility: n_cluster = 12 or n_cluster = 4 (same as number of classes)\n",
    "# n_cluster 14\n",
    "kmeans_14 = KMeans(n_clusters=14)\n",
    "kmeans_14.fit(X)\n",
    "df['clust_14'] = kmeans_14.predict(X)"
   ]
  },
  {
   "cell_type": "code",
   "execution_count": 62,
   "metadata": {},
   "outputs": [],
   "source": [
    "# n_cluster 4\n",
    "kmeans_4 = KMeans(n_clusters=4)\n",
    "kmeans_4.fit(X)\n",
    "df['clust_4'] = kmeans_4.predict(X)"
   ]
  },
  {
   "cell_type": "code",
   "execution_count": 63,
   "metadata": {},
   "outputs": [
    {
     "data": {
      "text/html": [
       "<div>\n",
       "<style scoped>\n",
       "    .dataframe tbody tr th:only-of-type {\n",
       "        vertical-align: middle;\n",
       "    }\n",
       "\n",
       "    .dataframe tbody tr th {\n",
       "        vertical-align: top;\n",
       "    }\n",
       "\n",
       "    .dataframe thead th {\n",
       "        text-align: right;\n",
       "    }\n",
       "</style>\n",
       "<table border=\"1\" class=\"dataframe\">\n",
       "  <thead>\n",
       "    <tr style=\"text-align: right;\">\n",
       "      <th>clust_14</th>\n",
       "      <th>0</th>\n",
       "      <th>1</th>\n",
       "      <th>2</th>\n",
       "      <th>3</th>\n",
       "      <th>4</th>\n",
       "      <th>5</th>\n",
       "      <th>6</th>\n",
       "      <th>7</th>\n",
       "      <th>8</th>\n",
       "      <th>9</th>\n",
       "      <th>10</th>\n",
       "      <th>11</th>\n",
       "      <th>12</th>\n",
       "      <th>13</th>\n",
       "    </tr>\n",
       "    <tr>\n",
       "      <th>microorganism</th>\n",
       "      <th></th>\n",
       "      <th></th>\n",
       "      <th></th>\n",
       "      <th></th>\n",
       "      <th></th>\n",
       "      <th></th>\n",
       "      <th></th>\n",
       "      <th></th>\n",
       "      <th></th>\n",
       "      <th></th>\n",
       "      <th></th>\n",
       "      <th></th>\n",
       "      <th></th>\n",
       "      <th></th>\n",
       "    </tr>\n",
       "  </thead>\n",
       "  <tbody>\n",
       "    <tr>\n",
       "      <th>1</th>\n",
       "      <td>7</td>\n",
       "      <td>4</td>\n",
       "      <td>33</td>\n",
       "      <td>33</td>\n",
       "      <td>104</td>\n",
       "      <td>149</td>\n",
       "      <td>10</td>\n",
       "      <td>4</td>\n",
       "      <td>9</td>\n",
       "      <td>8</td>\n",
       "      <td>210</td>\n",
       "      <td>27</td>\n",
       "      <td>3</td>\n",
       "      <td>12</td>\n",
       "    </tr>\n",
       "    <tr>\n",
       "      <th>2</th>\n",
       "      <td>352</td>\n",
       "      <td>336</td>\n",
       "      <td>377</td>\n",
       "      <td>432</td>\n",
       "      <td>80</td>\n",
       "      <td>184</td>\n",
       "      <td>352</td>\n",
       "      <td>80</td>\n",
       "      <td>312</td>\n",
       "      <td>432</td>\n",
       "      <td>216</td>\n",
       "      <td>351</td>\n",
       "      <td>440</td>\n",
       "      <td>376</td>\n",
       "    </tr>\n",
       "    <tr>\n",
       "      <th>3</th>\n",
       "      <td>84</td>\n",
       "      <td>46</td>\n",
       "      <td>169</td>\n",
       "      <td>184</td>\n",
       "      <td>60</td>\n",
       "      <td>40</td>\n",
       "      <td>36</td>\n",
       "      <td>2</td>\n",
       "      <td>82</td>\n",
       "      <td>142</td>\n",
       "      <td>58</td>\n",
       "      <td>194</td>\n",
       "      <td>116</td>\n",
       "      <td>137</td>\n",
       "    </tr>\n",
       "    <tr>\n",
       "      <th>4</th>\n",
       "      <td>8</td>\n",
       "      <td>11</td>\n",
       "      <td>4</td>\n",
       "      <td>0</td>\n",
       "      <td>14</td>\n",
       "      <td>22</td>\n",
       "      <td>5</td>\n",
       "      <td>0</td>\n",
       "      <td>6</td>\n",
       "      <td>3</td>\n",
       "      <td>2</td>\n",
       "      <td>0</td>\n",
       "      <td>0</td>\n",
       "      <td>7</td>\n",
       "    </tr>\n",
       "  </tbody>\n",
       "</table>\n",
       "</div>"
      ],
      "text/plain": [
       "clust_14        0    1    2    3    4    5    6   7    8    9    10   11   12  \\\n",
       "microorganism                                                                   \n",
       "1                7    4   33   33  104  149   10   4    9    8  210   27    3   \n",
       "2              352  336  377  432   80  184  352  80  312  432  216  351  440   \n",
       "3               84   46  169  184   60   40   36   2   82  142   58  194  116   \n",
       "4                8   11    4    0   14   22    5   0    6    3    2    0    0   \n",
       "\n",
       "clust_14        13  \n",
       "microorganism       \n",
       "1               12  \n",
       "2              376  \n",
       "3              137  \n",
       "4                7  "
      ]
     },
     "execution_count": 63,
     "metadata": {},
     "output_type": "execute_result"
    }
   ],
   "source": [
    "pd.crosstab(df['microorganism'], df['clust_14'])"
   ]
  },
  {
   "cell_type": "code",
   "execution_count": 64,
   "metadata": {},
   "outputs": [
    {
     "data": {
      "text/html": [
       "<div>\n",
       "<style scoped>\n",
       "    .dataframe tbody tr th:only-of-type {\n",
       "        vertical-align: middle;\n",
       "    }\n",
       "\n",
       "    .dataframe tbody tr th {\n",
       "        vertical-align: top;\n",
       "    }\n",
       "\n",
       "    .dataframe thead th {\n",
       "        text-align: right;\n",
       "    }\n",
       "</style>\n",
       "<table border=\"1\" class=\"dataframe\">\n",
       "  <thead>\n",
       "    <tr style=\"text-align: right;\">\n",
       "      <th>clust_4</th>\n",
       "      <th>0</th>\n",
       "      <th>1</th>\n",
       "      <th>2</th>\n",
       "      <th>3</th>\n",
       "      <th>All</th>\n",
       "    </tr>\n",
       "    <tr>\n",
       "      <th>microorganism</th>\n",
       "      <th></th>\n",
       "      <th></th>\n",
       "      <th></th>\n",
       "      <th></th>\n",
       "      <th></th>\n",
       "    </tr>\n",
       "  </thead>\n",
       "  <tbody>\n",
       "    <tr>\n",
       "      <th>1</th>\n",
       "      <td>125</td>\n",
       "      <td>251</td>\n",
       "      <td>76</td>\n",
       "      <td>161</td>\n",
       "      <td>613</td>\n",
       "    </tr>\n",
       "    <tr>\n",
       "      <th>2</th>\n",
       "      <td>1160</td>\n",
       "      <td>888</td>\n",
       "      <td>1160</td>\n",
       "      <td>1112</td>\n",
       "      <td>4320</td>\n",
       "    </tr>\n",
       "    <tr>\n",
       "      <th>3</th>\n",
       "      <td>254</td>\n",
       "      <td>279</td>\n",
       "      <td>599</td>\n",
       "      <td>218</td>\n",
       "      <td>1350</td>\n",
       "    </tr>\n",
       "    <tr>\n",
       "      <th>4</th>\n",
       "      <td>32</td>\n",
       "      <td>20</td>\n",
       "      <td>10</td>\n",
       "      <td>20</td>\n",
       "      <td>82</td>\n",
       "    </tr>\n",
       "    <tr>\n",
       "      <th>All</th>\n",
       "      <td>1571</td>\n",
       "      <td>1438</td>\n",
       "      <td>1845</td>\n",
       "      <td>1511</td>\n",
       "      <td>6365</td>\n",
       "    </tr>\n",
       "  </tbody>\n",
       "</table>\n",
       "</div>"
      ],
      "text/plain": [
       "clust_4           0     1     2     3   All\n",
       "microorganism                              \n",
       "1               125   251    76   161   613\n",
       "2              1160   888  1160  1112  4320\n",
       "3               254   279   599   218  1350\n",
       "4                32    20    10    20    82\n",
       "All            1571  1438  1845  1511  6365"
      ]
     },
     "execution_count": 64,
     "metadata": {},
     "output_type": "execute_result"
    }
   ],
   "source": [
    "pd.crosstab(df['microorganism'], df['clust_4'], margins=True)"
   ]
  },
  {
   "cell_type": "code",
   "execution_count": 65,
   "metadata": {},
   "outputs": [
    {
     "data": {
      "text/html": [
       "<div>\n",
       "<style scoped>\n",
       "    .dataframe tbody tr th:only-of-type {\n",
       "        vertical-align: middle;\n",
       "    }\n",
       "\n",
       "    .dataframe tbody tr th {\n",
       "        vertical-align: top;\n",
       "    }\n",
       "\n",
       "    .dataframe thead th {\n",
       "        text-align: right;\n",
       "    }\n",
       "</style>\n",
       "<table border=\"1\" class=\"dataframe\">\n",
       "  <thead>\n",
       "    <tr style=\"text-align: right;\">\n",
       "      <th>clust_4</th>\n",
       "      <th>0</th>\n",
       "      <th>1</th>\n",
       "      <th>2</th>\n",
       "      <th>3</th>\n",
       "    </tr>\n",
       "    <tr>\n",
       "      <th>clust_14</th>\n",
       "      <th></th>\n",
       "      <th></th>\n",
       "      <th></th>\n",
       "      <th></th>\n",
       "    </tr>\n",
       "  </thead>\n",
       "  <tbody>\n",
       "    <tr>\n",
       "      <th>0</th>\n",
       "      <td>28</td>\n",
       "      <td>0</td>\n",
       "      <td>0</td>\n",
       "      <td>423</td>\n",
       "    </tr>\n",
       "    <tr>\n",
       "      <th>1</th>\n",
       "      <td>359</td>\n",
       "      <td>38</td>\n",
       "      <td>0</td>\n",
       "      <td>0</td>\n",
       "    </tr>\n",
       "    <tr>\n",
       "      <th>2</th>\n",
       "      <td>0</td>\n",
       "      <td>23</td>\n",
       "      <td>560</td>\n",
       "      <td>0</td>\n",
       "    </tr>\n",
       "    <tr>\n",
       "      <th>3</th>\n",
       "      <td>0</td>\n",
       "      <td>20</td>\n",
       "      <td>82</td>\n",
       "      <td>547</td>\n",
       "    </tr>\n",
       "    <tr>\n",
       "      <th>4</th>\n",
       "      <td>258</td>\n",
       "      <td>0</td>\n",
       "      <td>0</td>\n",
       "      <td>0</td>\n",
       "    </tr>\n",
       "    <tr>\n",
       "      <th>5</th>\n",
       "      <td>39</td>\n",
       "      <td>98</td>\n",
       "      <td>0</td>\n",
       "      <td>258</td>\n",
       "    </tr>\n",
       "    <tr>\n",
       "      <th>6</th>\n",
       "      <td>368</td>\n",
       "      <td>0</td>\n",
       "      <td>0</td>\n",
       "      <td>35</td>\n",
       "    </tr>\n",
       "    <tr>\n",
       "      <th>7</th>\n",
       "      <td>0</td>\n",
       "      <td>0</td>\n",
       "      <td>26</td>\n",
       "      <td>60</td>\n",
       "    </tr>\n",
       "    <tr>\n",
       "      <th>8</th>\n",
       "      <td>0</td>\n",
       "      <td>10</td>\n",
       "      <td>379</td>\n",
       "      <td>20</td>\n",
       "    </tr>\n",
       "    <tr>\n",
       "      <th>9</th>\n",
       "      <td>0</td>\n",
       "      <td>568</td>\n",
       "      <td>0</td>\n",
       "      <td>17</td>\n",
       "    </tr>\n",
       "    <tr>\n",
       "      <th>10</th>\n",
       "      <td>11</td>\n",
       "      <td>348</td>\n",
       "      <td>2</td>\n",
       "      <td>125</td>\n",
       "    </tr>\n",
       "    <tr>\n",
       "      <th>11</th>\n",
       "      <td>0</td>\n",
       "      <td>0</td>\n",
       "      <td>572</td>\n",
       "      <td>0</td>\n",
       "    </tr>\n",
       "    <tr>\n",
       "      <th>12</th>\n",
       "      <td>508</td>\n",
       "      <td>25</td>\n",
       "      <td>0</td>\n",
       "      <td>26</td>\n",
       "    </tr>\n",
       "    <tr>\n",
       "      <th>13</th>\n",
       "      <td>0</td>\n",
       "      <td>308</td>\n",
       "      <td>224</td>\n",
       "      <td>0</td>\n",
       "    </tr>\n",
       "  </tbody>\n",
       "</table>\n",
       "</div>"
      ],
      "text/plain": [
       "clust_4     0    1    2    3\n",
       "clust_14                    \n",
       "0          28    0    0  423\n",
       "1         359   38    0    0\n",
       "2           0   23  560    0\n",
       "3           0   20   82  547\n",
       "4         258    0    0    0\n",
       "5          39   98    0  258\n",
       "6         368    0    0   35\n",
       "7           0    0   26   60\n",
       "8           0   10  379   20\n",
       "9           0  568    0   17\n",
       "10         11  348    2  125\n",
       "11          0    0  572    0\n",
       "12        508   25    0   26\n",
       "13          0  308  224    0"
      ]
     },
     "execution_count": 65,
     "metadata": {},
     "output_type": "execute_result"
    }
   ],
   "source": [
    "pd.crosstab(df['clust_14'], df['clust_4'])"
   ]
  },
  {
   "cell_type": "code",
   "execution_count": null,
   "metadata": {},
   "outputs": [],
   "source": [
    "# plotting tsne graph\n",
    "from sklearn.manifold import TSNE\n",
    "tsne = TSNE(n_components=4)\n",
    "tsne_df =tsne.fit_transform(X)"
   ]
  },
  {
   "cell_type": "code",
   "execution_count": null,
   "metadata": {},
   "outputs": [],
   "source": []
  }
 ],
 "metadata": {
  "kernelspec": {
   "display_name": "Python 3",
   "language": "python",
   "name": "python3"
  },
  "language_info": {
   "codemirror_mode": {
    "name": "ipython",
    "version": 3
   },
   "file_extension": ".py",
   "mimetype": "text/x-python",
   "name": "python",
   "nbconvert_exporter": "python",
   "pygments_lexer": "ipython3",
   "version": "3.8.5"
  }
 },
 "nbformat": 4,
 "nbformat_minor": 4
}
